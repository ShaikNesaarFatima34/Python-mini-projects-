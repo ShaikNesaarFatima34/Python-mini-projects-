{
 "cells": [
  {
   "cell_type": "code",
   "execution_count": 3,
   "metadata": {},
   "outputs": [
    {
     "name": "stdout",
     "output_type": "stream",
     "text": [
      "the min value is2\n"
     ]
    }
   ],
   "source": [
    "class math():\n",
    "    def min(numberlist):\n",
    "        temp=0\n",
    "        for x in numberlist:\n",
    "            if x>temp:\n",
    "                temp=x\n",
    "        for y in numberlist:\n",
    "            if y<temp:\n",
    "                temp=y\n",
    "        print(f'the min value is{temp}')\n",
    "              \n",
    "    math.min([2,3,4,5])"
   ]
  },
  {
   "cell_type": "code",
   "execution_count": null,
   "metadata": {},
   "outputs": [],
   "source": []
  }
 ],
 "metadata": {
  "kernelspec": {
   "display_name": "Python 3",
   "language": "python",
   "name": "python3"
  },
  "language_info": {
   "codemirror_mode": {
    "name": "ipython",
    "version": 3
   },
   "file_extension": ".py",
   "mimetype": "text/x-python",
   "name": "python",
   "nbconvert_exporter": "python",
   "pygments_lexer": "ipython3",
   "version": "3.9.13"
  }
 },
 "nbformat": 4,
 "nbformat_minor": 2
}
